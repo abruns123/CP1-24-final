{
 "cells": [
  {
   "cell_type": "code",
   "execution_count": 7,
   "metadata": {},
   "outputs": [
    {
     "ename": "ImportError",
     "evalue": "cannot import name 'get_coords' from 'distance_calculator' (/workspaces/CP1-24-midterm/main_file/distance_calculator.py)",
     "output_type": "error",
     "traceback": [
      "\u001b[0;31m---------------------------------------------------------------------------\u001b[0m",
      "\u001b[0;31mImportError\u001b[0m                               Traceback (most recent call last)",
      "Cell \u001b[0;32mIn[7], line 3\u001b[0m\n\u001b[1;32m      1\u001b[0m \u001b[38;5;28;01mimport\u001b[39;00m \u001b[38;5;21;01mmatplotlib\u001b[39;00m\u001b[38;5;21;01m.\u001b[39;00m\u001b[38;5;21;01mpyplot\u001b[39;00m \u001b[38;5;28;01mas\u001b[39;00m \u001b[38;5;21;01mplt\u001b[39;00m\n\u001b[1;32m      2\u001b[0m \u001b[38;5;28;01mimport\u001b[39;00m \u001b[38;5;21;01mdistance_calculator\u001b[39;00m \u001b[38;5;28;01mas\u001b[39;00m \u001b[38;5;21;01mdc\u001b[39;00m\n\u001b[0;32m----> 3\u001b[0m \u001b[38;5;28;01mfrom\u001b[39;00m \u001b[38;5;21;01mdistance_calculator\u001b[39;00m \u001b[38;5;28;01mimport\u001b[39;00m get_coords\n\u001b[1;32m      4\u001b[0m lats,lons\u001b[38;5;241m=\u001b[39mdc\u001b[38;5;241m.\u001b[39mreader(\u001b[38;5;124m\"\u001b[39m\u001b[38;5;124m/workspaces/CP1-24-midterm/main_file/Triangle Data/Location.csv\u001b[39m\u001b[38;5;124m\"\u001b[39m)\n\u001b[1;32m      5\u001b[0m distances\u001b[38;5;241m=\u001b[39m[]\n",
      "\u001b[0;31mImportError\u001b[0m: cannot import name 'get_coords' from 'distance_calculator' (/workspaces/CP1-24-midterm/main_file/distance_calculator.py)"
     ]
    }
   ],
   "source": [
    "import matplotlib.pyplot as plt\n",
    "import distance_calculator as dc\n",
    "from distance_calculator import get_coords\n",
    "\n",
    "lats,lons=dc.reader(\"/workspaces/CP1-24-midterm/main_file/Triangle Data/Location.csv\")\n",
    "distances=[]\n",
    "xy_coords=[]\n",
    "for i in range(len(lats)-1):\n",
    "    distances.append(dc.diffm(lats[i], lats[i+1], lons[i], lons[i+1]))\n",
    "for i in range(len(distances)):\n",
    "    xy_coords.append(get_coords(distances, distances[i], i))\n",
    "\n",
    "plt.plot(xy_coords[1], xy_coords[0])\n",
    "    \n",
    "\n",
    "\n",
    "\n",
    "\n"
   ]
  }
 ],
 "metadata": {
  "kernelspec": {
   "display_name": "Python 3",
   "language": "python",
   "name": "python3"
  },
  "language_info": {
   "codemirror_mode": {
    "name": "ipython",
    "version": 3
   },
   "file_extension": ".py",
   "mimetype": "text/x-python",
   "name": "python",
   "nbconvert_exporter": "python",
   "pygments_lexer": "ipython3",
   "version": "3.12.1"
  }
 },
 "nbformat": 4,
 "nbformat_minor": 2
}
