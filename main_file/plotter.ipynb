{
 "cells": [
  {
   "cell_type": "code",
   "execution_count": 32,
   "metadata": {},
   "outputs": [],
   "source": [
    "import matplotlib.pyplot as plt\n",
    "import distance_calculator as dc\n",
    "from distance_calculator import reader\n",
    "\n",
    "dc.diffm(1,2,3,4)\n",
    "def get_coords(d,xy,i):\n",
    "    if i!=0:\n",
    "        xy+=get_coords(d, d[i], i-1)\n",
    "    if i==0:\n",
    "        return xy\n",
    "\n",
    "lats,lons=dc.reader(\"/workspaces/CP1-24-midterm/main_file/Triangle Data/Location.csv\")\n",
    "distances=[]\n",
    "xy_coords=[]\n",
    "for i in range(len(lats)-1):\n",
    "    distances.append(dc.diffm(lats[i], lats[i+1], lons[i], lons[i+1]))\n",
    "\n",
    "    \n",
    "\n",
    "\n",
    "\n",
    "\n"
   ]
  }
 ],
 "metadata": {
  "kernelspec": {
   "display_name": "Python 3",
   "language": "python",
   "name": "python3"
  },
  "language_info": {
   "codemirror_mode": {
    "name": "ipython",
    "version": 3
   },
   "file_extension": ".py",
   "mimetype": "text/x-python",
   "name": "python",
   "nbconvert_exporter": "python",
   "pygments_lexer": "ipython3",
   "version": "3.12.1"
  }
 },
 "nbformat": 4,
 "nbformat_minor": 2
}
